{
  "nbformat": 4,
  "nbformat_minor": 0,
  "metadata": {
    "colab": {
      "name": "xor_MLP.ipynb",
      "provenance": [],
      "collapsed_sections": [],
      "authorship_tag": "ABX9TyPDTyS74pko2jURpTYlPm04",
      "include_colab_link": true
    },
    "kernelspec": {
      "name": "python3",
      "display_name": "Python 3"
    },
    "language_info": {
      "name": "python"
    }
  },
  "cells": [
    {
      "cell_type": "markdown",
      "metadata": {
        "id": "view-in-github",
        "colab_type": "text"
      },
      "source": [
        "<a href=\"https://colab.research.google.com/github/Yarenborta/gumushane-eem-eesec./blob/main/xor_MLP.ipynb\" target=\"_parent\"><img src=\"https://colab.research.google.com/assets/colab-badge.svg\" alt=\"Open In Colab\"/></a>"
      ]
    },
    {
      "cell_type": "markdown",
      "metadata": {
        "id": "E93vKZr5raJQ"
      },
      "source": [
        "En başta bu kodda kullanacağımız fonksiyonları çağıracağımız kütüphaneleri dahil ediyoruz.\n",
        "\n",
        "First we import the libraries to use the functions that we are going to invoke in this code."
      ]
    },
    {
      "cell_type": "code",
      "metadata": {
        "id": "IB9Fsz9grcRL"
      },
      "source": [
        "import matplotlib.pyplot as plt\n",
        "import tensorflow as tf\n",
        "import numpy as np # numerical python kütüphanesi\n",
        "import pandas as pd\n",
        "import sys"
      ],
      "execution_count": 6,
      "outputs": []
    },
    {
      "cell_type": "markdown",
      "metadata": {
        "id": "KLQERrI6reeZ"
      },
      "source": [
        "Bildiğimiz gibi, XOR problemi Elektrik-Elektronik Mühendisliğinde sayısal devreler (logic circuits) alanında karşımıza çıkan bir problem. İki girişli ve tek çıkışlı bir sistemin girişleri TRUE-FALSE (veya 1-0 veya HIGH-LOW) olarak isimlendirilen Boolean veri tipinde değer alıyorlar. Benzer şekilde çıkış da yine 1-0 Boolean değişkenlerinden birisi oluyor.\n",
        "----------------------\n",
        "\n",
        "Aşağıda numpy kütüphanesi kullanarak giriş ve hedef verisini (input and target data) oluşturduk. Dikkat edin, burada hedef verisine İngilizce'de annonation deniyor. Yani bizler hedef değişkenini oluşturduğumuzda giriş verisini annotate etmiş oluyoruz."
      ]
    },
    {
      "cell_type": "code",
      "metadata": {
        "id": "MDqR1bq6rm7C"
      },
      "source": [
        "trainingData = np.array([[0,0], [0,1], [1,0], [1,1]], \"float32\") # eğitim verisi - sisteme giriş yapacak\n",
        "targetData = np.array([[0], [1], [1], [0]], \"float32\") # hedef verisi - sistemin çıkış vermesini istediğimiz değerler"
      ],
      "execution_count": 7,
      "outputs": []
    },
    {
      "cell_type": "markdown",
      "metadata": {
        "id": "aixB0LV9rqzs"
      },
      "source": [
        "Yukarıda ürettiğimiz giriş-çıkış verisini aşağıda konsola yazdıralım.\n",
        "\n",
        "Let's print the input-output data we generated above to the console."
      ]
    },
    {
      "cell_type": "code",
      "metadata": {
        "colab": {
          "base_uri": "https://localhost:8080/"
        },
        "id": "8mLGl9X0rszB",
        "outputId": "1a948b89-18b8-4d07-f27e-9f2f0629f35a"
      },
      "source": [
        "print(trainingData)\n",
        "print(targetData)"
      ],
      "execution_count": 8,
      "outputs": [
        {
          "output_type": "stream",
          "text": [
            "[[0. 0.]\n",
            " [0. 1.]\n",
            " [1. 0.]\n",
            " [1. 1.]]\n",
            "[[0.]\n",
            " [1.]\n",
            " [1.]\n",
            " [0.]]\n"
          ],
          "name": "stdout"
        }
      ]
    },
    {
      "cell_type": "markdown",
      "metadata": {
        "id": "GZHKn-QPru02"
      },
      "source": [
        "\n",
        "TF kütüphanesinin içerisinde yer alan Keras kütüphanesiyle bir tane çok katmanlı sinir ağı (multi-layer perceptron - MLP) oluşturalım. Giriş sayısının iki, çıkış sayısının bir olduğunu, gizli katman (hidden layer) sayısını ve bu katmanlardaki nöron sayısını ve de hangi aktivasyon fonksiyonunu kullandığımızı adım adım seçeceğiz."
      ]
    },
    {
      "cell_type": "code",
      "metadata": {
        "id": "YeFB_sjNrz7N"
      },
      "source": [
        "model = tf.keras.models.Sequential(layers=None, name='xor_MLP')\n",
        "model.add(tf.keras.layers.Dense(16, input_dim = 2, activation = 'relu', name='HL1'))\n",
        "model.add(tf.keras.layers.Dense(1, activation = 'sigmoid', name='outputLayer'))"
      ],
      "execution_count": 9,
      "outputs": []
    },
    {
      "cell_type": "markdown",
      "metadata": {
        "id": "c8PB88Smr2Ef"
      },
      "source": [
        "Yukarıdaki kodda yapay sinir ağımızın yapısını (i.e., katman sayısı, katmanlardaki nöron sayısı, nöron çıkışlarında kullanılan aktivasyon fonskiyon tipleri) belirledik. Bir sonraki adım olarak öğrenme (learning) işlemini başlatacağız. Şimdi öğrenme işleminin (learning process) nasıl olacağını ayarlayalım."
      ]
    },
    {
      "cell_type": "code",
      "metadata": {
        "colab": {
          "base_uri": "https://localhost:8080/"
        },
        "id": "VQ2UFo2Dr5hE",
        "outputId": "3ac0bfd7-74ef-45d6-c489-1ff895d03cee"
      },
      "source": [
        "model.compile(optimizer='adam', loss='mean_squared_error', metrics='binary_accuracy')\n",
        "model.summary()"
      ],
      "execution_count": 10,
      "outputs": [
        {
          "output_type": "stream",
          "text": [
            "Model: \"xor_MLP\"\n",
            "_________________________________________________________________\n",
            "Layer (type)                 Output Shape              Param #   \n",
            "=================================================================\n",
            "HL1 (Dense)                  (None, 16)                48        \n",
            "_________________________________________________________________\n",
            "outputLayer (Dense)          (None, 1)                 17        \n",
            "=================================================================\n",
            "Total params: 65\n",
            "Trainable params: 65\n",
            "Non-trainable params: 0\n",
            "_________________________________________________________________\n"
          ],
          "name": "stdout"
        }
      ]
    },
    {
      "cell_type": "markdown",
      "metadata": {
        "id": "xeo8epu7r7Jn"
      },
      "source": [
        "Son olarak konfigürasyonunu tamamladığımız çok katmanlı yapay sinir ağının eğitimini başlatıyoruz. Burada kullanılan fonksiyonun ismi fit yani uydurma demek.\n",
        "\n",
        "Lastly, we start training the configured MLP."
      ]
    },
    {
      "cell_type": "code",
      "metadata": {
        "colab": {
          "base_uri": "https://localhost:8080/"
        },
        "id": "ikOxyq-6r9jk",
        "outputId": "502141fe-3111-4b42-fd8e-95a0c82e366a"
      },
      "source": [
        "history=model.fit(trainingData, targetData, epochs=200, verbose=1)"
      ],
      "execution_count": 11,
      "outputs": [
        {
          "output_type": "stream",
          "text": [
            "Epoch 1/200\n",
            "1/1 [==============================] - 1s 517ms/step - loss: 0.2746 - binary_accuracy: 0.7500\n",
            "Epoch 2/200\n",
            "1/1 [==============================] - 0s 7ms/step - loss: 0.2741 - binary_accuracy: 0.7500\n",
            "Epoch 3/200\n",
            "1/1 [==============================] - 0s 4ms/step - loss: 0.2737 - binary_accuracy: 0.7500\n",
            "Epoch 4/200\n",
            "1/1 [==============================] - 0s 5ms/step - loss: 0.2733 - binary_accuracy: 0.7500\n",
            "Epoch 5/200\n",
            "1/1 [==============================] - 0s 5ms/step - loss: 0.2729 - binary_accuracy: 0.7500\n",
            "Epoch 6/200\n",
            "1/1 [==============================] - 0s 5ms/step - loss: 0.2724 - binary_accuracy: 0.7500\n",
            "Epoch 7/200\n",
            "1/1 [==============================] - 0s 3ms/step - loss: 0.2720 - binary_accuracy: 0.7500\n",
            "Epoch 8/200\n",
            "1/1 [==============================] - 0s 9ms/step - loss: 0.2716 - binary_accuracy: 0.7500\n",
            "Epoch 9/200\n",
            "1/1 [==============================] - 0s 3ms/step - loss: 0.2712 - binary_accuracy: 0.5000\n",
            "Epoch 10/200\n",
            "1/1 [==============================] - 0s 3ms/step - loss: 0.2708 - binary_accuracy: 0.5000\n",
            "Epoch 11/200\n",
            "1/1 [==============================] - 0s 3ms/step - loss: 0.2704 - binary_accuracy: 0.5000\n",
            "Epoch 12/200\n",
            "1/1 [==============================] - 0s 4ms/step - loss: 0.2700 - binary_accuracy: 0.5000\n",
            "Epoch 13/200\n",
            "1/1 [==============================] - 0s 6ms/step - loss: 0.2696 - binary_accuracy: 0.5000\n",
            "Epoch 14/200\n",
            "1/1 [==============================] - 0s 3ms/step - loss: 0.2692 - binary_accuracy: 0.5000\n",
            "Epoch 15/200\n",
            "1/1 [==============================] - 0s 9ms/step - loss: 0.2688 - binary_accuracy: 0.5000\n",
            "Epoch 16/200\n",
            "1/1 [==============================] - 0s 3ms/step - loss: 0.2684 - binary_accuracy: 0.5000\n",
            "Epoch 17/200\n",
            "1/1 [==============================] - 0s 5ms/step - loss: 0.2680 - binary_accuracy: 0.5000\n",
            "Epoch 18/200\n",
            "1/1 [==============================] - 0s 4ms/step - loss: 0.2676 - binary_accuracy: 0.5000\n",
            "Epoch 19/200\n",
            "1/1 [==============================] - 0s 6ms/step - loss: 0.2672 - binary_accuracy: 0.5000\n",
            "Epoch 20/200\n",
            "1/1 [==============================] - 0s 3ms/step - loss: 0.2669 - binary_accuracy: 0.5000\n",
            "Epoch 21/200\n",
            "1/1 [==============================] - 0s 6ms/step - loss: 0.2665 - binary_accuracy: 0.5000\n",
            "Epoch 22/200\n",
            "1/1 [==============================] - 0s 3ms/step - loss: 0.2661 - binary_accuracy: 0.5000\n",
            "Epoch 23/200\n",
            "1/1 [==============================] - 0s 4ms/step - loss: 0.2658 - binary_accuracy: 0.5000\n",
            "Epoch 24/200\n",
            "1/1 [==============================] - 0s 4ms/step - loss: 0.2654 - binary_accuracy: 0.5000\n",
            "Epoch 25/200\n",
            "1/1 [==============================] - 0s 4ms/step - loss: 0.2650 - binary_accuracy: 0.5000\n",
            "Epoch 26/200\n",
            "1/1 [==============================] - 0s 3ms/step - loss: 0.2647 - binary_accuracy: 0.5000\n",
            "Epoch 27/200\n",
            "1/1 [==============================] - 0s 5ms/step - loss: 0.2643 - binary_accuracy: 0.5000\n",
            "Epoch 28/200\n",
            "1/1 [==============================] - 0s 3ms/step - loss: 0.2640 - binary_accuracy: 0.5000\n",
            "Epoch 29/200\n",
            "1/1 [==============================] - 0s 3ms/step - loss: 0.2636 - binary_accuracy: 0.5000\n",
            "Epoch 30/200\n",
            "1/1 [==============================] - 0s 6ms/step - loss: 0.2633 - binary_accuracy: 0.5000\n",
            "Epoch 31/200\n",
            "1/1 [==============================] - 0s 3ms/step - loss: 0.2629 - binary_accuracy: 0.5000\n",
            "Epoch 32/200\n",
            "1/1 [==============================] - 0s 3ms/step - loss: 0.2626 - binary_accuracy: 0.5000\n",
            "Epoch 33/200\n",
            "1/1 [==============================] - 0s 6ms/step - loss: 0.2622 - binary_accuracy: 0.5000\n",
            "Epoch 34/200\n",
            "1/1 [==============================] - 0s 3ms/step - loss: 0.2619 - binary_accuracy: 0.5000\n",
            "Epoch 35/200\n",
            "1/1 [==============================] - 0s 3ms/step - loss: 0.2615 - binary_accuracy: 0.5000\n",
            "Epoch 36/200\n",
            "1/1 [==============================] - 0s 3ms/step - loss: 0.2612 - binary_accuracy: 0.5000\n",
            "Epoch 37/200\n",
            "1/1 [==============================] - 0s 3ms/step - loss: 0.2609 - binary_accuracy: 0.5000\n",
            "Epoch 38/200\n",
            "1/1 [==============================] - 0s 4ms/step - loss: 0.2605 - binary_accuracy: 0.5000\n",
            "Epoch 39/200\n",
            "1/1 [==============================] - 0s 6ms/step - loss: 0.2602 - binary_accuracy: 0.5000\n",
            "Epoch 40/200\n",
            "1/1 [==============================] - 0s 3ms/step - loss: 0.2599 - binary_accuracy: 0.5000\n",
            "Epoch 41/200\n",
            "1/1 [==============================] - 0s 3ms/step - loss: 0.2596 - binary_accuracy: 0.5000\n",
            "Epoch 42/200\n",
            "1/1 [==============================] - 0s 3ms/step - loss: 0.2593 - binary_accuracy: 0.5000\n",
            "Epoch 43/200\n",
            "1/1 [==============================] - 0s 3ms/step - loss: 0.2589 - binary_accuracy: 0.5000\n",
            "Epoch 44/200\n",
            "1/1 [==============================] - 0s 4ms/step - loss: 0.2586 - binary_accuracy: 0.5000\n",
            "Epoch 45/200\n",
            "1/1 [==============================] - 0s 4ms/step - loss: 0.2583 - binary_accuracy: 0.5000\n",
            "Epoch 46/200\n",
            "1/1 [==============================] - 0s 3ms/step - loss: 0.2580 - binary_accuracy: 0.5000\n",
            "Epoch 47/200\n",
            "1/1 [==============================] - 0s 4ms/step - loss: 0.2577 - binary_accuracy: 0.5000\n",
            "Epoch 48/200\n",
            "1/1 [==============================] - 0s 2ms/step - loss: 0.2574 - binary_accuracy: 0.5000\n",
            "Epoch 49/200\n",
            "1/1 [==============================] - 0s 3ms/step - loss: 0.2571 - binary_accuracy: 0.5000\n",
            "Epoch 50/200\n",
            "1/1 [==============================] - 0s 4ms/step - loss: 0.2568 - binary_accuracy: 0.5000\n",
            "Epoch 51/200\n",
            "1/1 [==============================] - 0s 5ms/step - loss: 0.2565 - binary_accuracy: 0.5000\n",
            "Epoch 52/200\n",
            "1/1 [==============================] - 0s 4ms/step - loss: 0.2562 - binary_accuracy: 0.5000\n",
            "Epoch 53/200\n",
            "1/1 [==============================] - 0s 4ms/step - loss: 0.2559 - binary_accuracy: 0.5000\n",
            "Epoch 54/200\n",
            "1/1 [==============================] - 0s 5ms/step - loss: 0.2556 - binary_accuracy: 0.5000\n",
            "Epoch 55/200\n",
            "1/1 [==============================] - 0s 5ms/step - loss: 0.2553 - binary_accuracy: 0.5000\n",
            "Epoch 56/200\n",
            "1/1 [==============================] - 0s 3ms/step - loss: 0.2550 - binary_accuracy: 0.5000\n",
            "Epoch 57/200\n",
            "1/1 [==============================] - 0s 4ms/step - loss: 0.2547 - binary_accuracy: 0.5000\n",
            "Epoch 58/200\n",
            "1/1 [==============================] - 0s 5ms/step - loss: 0.2544 - binary_accuracy: 0.5000\n",
            "Epoch 59/200\n",
            "1/1 [==============================] - 0s 3ms/step - loss: 0.2541 - binary_accuracy: 0.5000\n",
            "Epoch 60/200\n",
            "1/1 [==============================] - 0s 2ms/step - loss: 0.2538 - binary_accuracy: 0.5000\n",
            "Epoch 61/200\n",
            "1/1 [==============================] - 0s 3ms/step - loss: 0.2535 - binary_accuracy: 0.5000\n",
            "Epoch 62/200\n",
            "1/1 [==============================] - 0s 5ms/step - loss: 0.2532 - binary_accuracy: 0.5000\n",
            "Epoch 63/200\n",
            "1/1 [==============================] - 0s 4ms/step - loss: 0.2530 - binary_accuracy: 0.5000\n",
            "Epoch 64/200\n",
            "1/1 [==============================] - 0s 4ms/step - loss: 0.2527 - binary_accuracy: 0.5000\n",
            "Epoch 65/200\n",
            "1/1 [==============================] - 0s 6ms/step - loss: 0.2524 - binary_accuracy: 0.5000\n",
            "Epoch 66/200\n",
            "1/1 [==============================] - 0s 5ms/step - loss: 0.2521 - binary_accuracy: 0.5000\n",
            "Epoch 67/200\n",
            "1/1 [==============================] - 0s 5ms/step - loss: 0.2518 - binary_accuracy: 0.5000\n",
            "Epoch 68/200\n",
            "1/1 [==============================] - 0s 4ms/step - loss: 0.2515 - binary_accuracy: 0.5000\n",
            "Epoch 69/200\n",
            "1/1 [==============================] - 0s 4ms/step - loss: 0.2512 - binary_accuracy: 0.5000\n",
            "Epoch 70/200\n",
            "1/1 [==============================] - 0s 7ms/step - loss: 0.2509 - binary_accuracy: 0.5000\n",
            "Epoch 71/200\n",
            "1/1 [==============================] - 0s 5ms/step - loss: 0.2507 - binary_accuracy: 0.5000\n",
            "Epoch 72/200\n",
            "1/1 [==============================] - 0s 3ms/step - loss: 0.2504 - binary_accuracy: 0.5000\n",
            "Epoch 73/200\n",
            "1/1 [==============================] - 0s 7ms/step - loss: 0.2501 - binary_accuracy: 0.5000\n",
            "Epoch 74/200\n",
            "1/1 [==============================] - 0s 3ms/step - loss: 0.2498 - binary_accuracy: 0.5000\n",
            "Epoch 75/200\n",
            "1/1 [==============================] - 0s 3ms/step - loss: 0.2495 - binary_accuracy: 0.5000\n",
            "Epoch 76/200\n",
            "1/1 [==============================] - 0s 4ms/step - loss: 0.2492 - binary_accuracy: 0.5000\n",
            "Epoch 77/200\n",
            "1/1 [==============================] - 0s 3ms/step - loss: 0.2490 - binary_accuracy: 0.5000\n",
            "Epoch 78/200\n",
            "1/1 [==============================] - 0s 4ms/step - loss: 0.2488 - binary_accuracy: 0.5000\n",
            "Epoch 79/200\n",
            "1/1 [==============================] - 0s 3ms/step - loss: 0.2486 - binary_accuracy: 0.5000\n",
            "Epoch 80/200\n",
            "1/1 [==============================] - 0s 4ms/step - loss: 0.2484 - binary_accuracy: 0.5000\n",
            "Epoch 81/200\n",
            "1/1 [==============================] - 0s 4ms/step - loss: 0.2481 - binary_accuracy: 0.5000\n",
            "Epoch 82/200\n",
            "1/1 [==============================] - 0s 4ms/step - loss: 0.2479 - binary_accuracy: 0.5000\n",
            "Epoch 83/200\n",
            "1/1 [==============================] - 0s 2ms/step - loss: 0.2477 - binary_accuracy: 0.5000\n",
            "Epoch 84/200\n",
            "1/1 [==============================] - 0s 4ms/step - loss: 0.2475 - binary_accuracy: 0.5000\n",
            "Epoch 85/200\n",
            "1/1 [==============================] - 0s 5ms/step - loss: 0.2473 - binary_accuracy: 0.5000\n",
            "Epoch 86/200\n",
            "1/1 [==============================] - 0s 4ms/step - loss: 0.2470 - binary_accuracy: 0.5000\n",
            "Epoch 87/200\n",
            "1/1 [==============================] - 0s 6ms/step - loss: 0.2468 - binary_accuracy: 0.5000\n",
            "Epoch 88/200\n",
            "1/1 [==============================] - 0s 3ms/step - loss: 0.2466 - binary_accuracy: 0.5000\n",
            "Epoch 89/200\n",
            "1/1 [==============================] - 0s 3ms/step - loss: 0.2464 - binary_accuracy: 0.5000\n",
            "Epoch 90/200\n",
            "1/1 [==============================] - 0s 3ms/step - loss: 0.2461 - binary_accuracy: 0.5000\n",
            "Epoch 91/200\n",
            "1/1 [==============================] - 0s 8ms/step - loss: 0.2459 - binary_accuracy: 0.5000\n",
            "Epoch 92/200\n",
            "1/1 [==============================] - 0s 6ms/step - loss: 0.2457 - binary_accuracy: 0.5000\n",
            "Epoch 93/200\n",
            "1/1 [==============================] - 0s 4ms/step - loss: 0.2455 - binary_accuracy: 0.5000\n",
            "Epoch 94/200\n",
            "1/1 [==============================] - 0s 4ms/step - loss: 0.2453 - binary_accuracy: 0.5000\n",
            "Epoch 95/200\n",
            "1/1 [==============================] - 0s 7ms/step - loss: 0.2450 - binary_accuracy: 0.5000\n",
            "Epoch 96/200\n",
            "1/1 [==============================] - 0s 4ms/step - loss: 0.2448 - binary_accuracy: 0.5000\n",
            "Epoch 97/200\n",
            "1/1 [==============================] - 0s 3ms/step - loss: 0.2446 - binary_accuracy: 0.5000\n",
            "Epoch 98/200\n",
            "1/1 [==============================] - 0s 5ms/step - loss: 0.2444 - binary_accuracy: 0.5000\n",
            "Epoch 99/200\n",
            "1/1 [==============================] - 0s 5ms/step - loss: 0.2441 - binary_accuracy: 0.5000\n",
            "Epoch 100/200\n",
            "1/1 [==============================] - 0s 3ms/step - loss: 0.2439 - binary_accuracy: 0.5000\n",
            "Epoch 101/200\n",
            "1/1 [==============================] - 0s 5ms/step - loss: 0.2437 - binary_accuracy: 0.5000\n",
            "Epoch 102/200\n",
            "1/1 [==============================] - 0s 5ms/step - loss: 0.2435 - binary_accuracy: 0.5000\n",
            "Epoch 103/200\n",
            "1/1 [==============================] - 0s 3ms/step - loss: 0.2433 - binary_accuracy: 0.5000\n",
            "Epoch 104/200\n",
            "1/1 [==============================] - 0s 6ms/step - loss: 0.2430 - binary_accuracy: 0.5000\n",
            "Epoch 105/200\n",
            "1/1 [==============================] - 0s 3ms/step - loss: 0.2428 - binary_accuracy: 0.5000\n",
            "Epoch 106/200\n",
            "1/1 [==============================] - 0s 5ms/step - loss: 0.2426 - binary_accuracy: 0.5000\n",
            "Epoch 107/200\n",
            "1/1 [==============================] - 0s 5ms/step - loss: 0.2424 - binary_accuracy: 0.5000\n",
            "Epoch 108/200\n",
            "1/1 [==============================] - 0s 5ms/step - loss: 0.2422 - binary_accuracy: 0.7500\n",
            "Epoch 109/200\n",
            "1/1 [==============================] - 0s 5ms/step - loss: 0.2419 - binary_accuracy: 0.7500\n",
            "Epoch 110/200\n",
            "1/1 [==============================] - 0s 4ms/step - loss: 0.2417 - binary_accuracy: 0.7500\n",
            "Epoch 111/200\n",
            "1/1 [==============================] - 0s 5ms/step - loss: 0.2415 - binary_accuracy: 0.7500\n",
            "Epoch 112/200\n",
            "1/1 [==============================] - 0s 6ms/step - loss: 0.2413 - binary_accuracy: 0.7500\n",
            "Epoch 113/200\n",
            "1/1 [==============================] - 0s 3ms/step - loss: 0.2410 - binary_accuracy: 0.7500\n",
            "Epoch 114/200\n",
            "1/1 [==============================] - 0s 6ms/step - loss: 0.2408 - binary_accuracy: 0.7500\n",
            "Epoch 115/200\n",
            "1/1 [==============================] - 0s 4ms/step - loss: 0.2406 - binary_accuracy: 0.7500\n",
            "Epoch 116/200\n",
            "1/1 [==============================] - 0s 14ms/step - loss: 0.2404 - binary_accuracy: 0.7500\n",
            "Epoch 117/200\n",
            "1/1 [==============================] - 0s 6ms/step - loss: 0.2401 - binary_accuracy: 0.7500\n",
            "Epoch 118/200\n",
            "1/1 [==============================] - 0s 6ms/step - loss: 0.2399 - binary_accuracy: 0.7500\n",
            "Epoch 119/200\n",
            "1/1 [==============================] - 0s 13ms/step - loss: 0.2397 - binary_accuracy: 1.0000\n",
            "Epoch 120/200\n",
            "1/1 [==============================] - 0s 4ms/step - loss: 0.2395 - binary_accuracy: 1.0000\n",
            "Epoch 121/200\n",
            "1/1 [==============================] - 0s 11ms/step - loss: 0.2392 - binary_accuracy: 1.0000\n",
            "Epoch 122/200\n",
            "1/1 [==============================] - 0s 3ms/step - loss: 0.2390 - binary_accuracy: 1.0000\n",
            "Epoch 123/200\n",
            "1/1 [==============================] - 0s 6ms/step - loss: 0.2388 - binary_accuracy: 1.0000\n",
            "Epoch 124/200\n",
            "1/1 [==============================] - 0s 3ms/step - loss: 0.2385 - binary_accuracy: 1.0000\n",
            "Epoch 125/200\n",
            "1/1 [==============================] - 0s 9ms/step - loss: 0.2383 - binary_accuracy: 1.0000\n",
            "Epoch 126/200\n",
            "1/1 [==============================] - 0s 3ms/step - loss: 0.2381 - binary_accuracy: 1.0000\n",
            "Epoch 127/200\n",
            "1/1 [==============================] - 0s 6ms/step - loss: 0.2379 - binary_accuracy: 1.0000\n",
            "Epoch 128/200\n",
            "1/1 [==============================] - 0s 4ms/step - loss: 0.2376 - binary_accuracy: 1.0000\n",
            "Epoch 129/200\n",
            "1/1 [==============================] - 0s 51ms/step - loss: 0.2374 - binary_accuracy: 1.0000\n",
            "Epoch 130/200\n",
            "1/1 [==============================] - 0s 21ms/step - loss: 0.2372 - binary_accuracy: 1.0000\n",
            "Epoch 131/200\n",
            "1/1 [==============================] - 0s 11ms/step - loss: 0.2369 - binary_accuracy: 1.0000\n",
            "Epoch 132/200\n",
            "1/1 [==============================] - 0s 42ms/step - loss: 0.2367 - binary_accuracy: 1.0000\n",
            "Epoch 133/200\n",
            "1/1 [==============================] - 0s 6ms/step - loss: 0.2365 - binary_accuracy: 1.0000\n",
            "Epoch 134/200\n",
            "1/1 [==============================] - 0s 8ms/step - loss: 0.2362 - binary_accuracy: 1.0000\n",
            "Epoch 135/200\n",
            "1/1 [==============================] - 0s 5ms/step - loss: 0.2360 - binary_accuracy: 1.0000\n",
            "Epoch 136/200\n",
            "1/1 [==============================] - 0s 8ms/step - loss: 0.2358 - binary_accuracy: 1.0000\n",
            "Epoch 137/200\n",
            "1/1 [==============================] - 0s 5ms/step - loss: 0.2355 - binary_accuracy: 1.0000\n",
            "Epoch 138/200\n",
            "1/1 [==============================] - 0s 4ms/step - loss: 0.2353 - binary_accuracy: 1.0000\n",
            "Epoch 139/200\n",
            "1/1 [==============================] - 0s 5ms/step - loss: 0.2351 - binary_accuracy: 1.0000\n",
            "Epoch 140/200\n",
            "1/1 [==============================] - 0s 5ms/step - loss: 0.2349 - binary_accuracy: 1.0000\n",
            "Epoch 141/200\n",
            "1/1 [==============================] - 0s 5ms/step - loss: 0.2346 - binary_accuracy: 1.0000\n",
            "Epoch 142/200\n",
            "1/1 [==============================] - 0s 6ms/step - loss: 0.2344 - binary_accuracy: 1.0000\n",
            "Epoch 143/200\n",
            "1/1 [==============================] - 0s 8ms/step - loss: 0.2342 - binary_accuracy: 1.0000\n",
            "Epoch 144/200\n",
            "1/1 [==============================] - 0s 3ms/step - loss: 0.2340 - binary_accuracy: 1.0000\n",
            "Epoch 145/200\n",
            "1/1 [==============================] - 0s 7ms/step - loss: 0.2337 - binary_accuracy: 1.0000\n",
            "Epoch 146/200\n",
            "1/1 [==============================] - 0s 3ms/step - loss: 0.2335 - binary_accuracy: 1.0000\n",
            "Epoch 147/200\n",
            "1/1 [==============================] - 0s 8ms/step - loss: 0.2333 - binary_accuracy: 1.0000\n",
            "Epoch 148/200\n",
            "1/1 [==============================] - 0s 4ms/step - loss: 0.2330 - binary_accuracy: 1.0000\n",
            "Epoch 149/200\n",
            "1/1 [==============================] - 0s 4ms/step - loss: 0.2328 - binary_accuracy: 1.0000\n",
            "Epoch 150/200\n",
            "1/1 [==============================] - 0s 5ms/step - loss: 0.2326 - binary_accuracy: 1.0000\n",
            "Epoch 151/200\n",
            "1/1 [==============================] - 0s 5ms/step - loss: 0.2324 - binary_accuracy: 1.0000\n",
            "Epoch 152/200\n",
            "1/1 [==============================] - 0s 6ms/step - loss: 0.2321 - binary_accuracy: 1.0000\n",
            "Epoch 153/200\n",
            "1/1 [==============================] - 0s 4ms/step - loss: 0.2319 - binary_accuracy: 1.0000\n",
            "Epoch 154/200\n",
            "1/1 [==============================] - 0s 5ms/step - loss: 0.2317 - binary_accuracy: 1.0000\n",
            "Epoch 155/200\n",
            "1/1 [==============================] - 0s 6ms/step - loss: 0.2314 - binary_accuracy: 1.0000\n",
            "Epoch 156/200\n",
            "1/1 [==============================] - 0s 4ms/step - loss: 0.2312 - binary_accuracy: 1.0000\n",
            "Epoch 157/200\n",
            "1/1 [==============================] - 0s 10ms/step - loss: 0.2310 - binary_accuracy: 1.0000\n",
            "Epoch 158/200\n",
            "1/1 [==============================] - 0s 7ms/step - loss: 0.2307 - binary_accuracy: 1.0000\n",
            "Epoch 159/200\n",
            "1/1 [==============================] - 0s 7ms/step - loss: 0.2305 - binary_accuracy: 1.0000\n",
            "Epoch 160/200\n",
            "1/1 [==============================] - 0s 4ms/step - loss: 0.2303 - binary_accuracy: 1.0000\n",
            "Epoch 161/200\n",
            "1/1 [==============================] - 0s 5ms/step - loss: 0.2300 - binary_accuracy: 1.0000\n",
            "Epoch 162/200\n",
            "1/1 [==============================] - 0s 4ms/step - loss: 0.2298 - binary_accuracy: 1.0000\n",
            "Epoch 163/200\n",
            "1/1 [==============================] - 0s 5ms/step - loss: 0.2295 - binary_accuracy: 1.0000\n",
            "Epoch 164/200\n",
            "1/1 [==============================] - 0s 5ms/step - loss: 0.2293 - binary_accuracy: 1.0000\n",
            "Epoch 165/200\n",
            "1/1 [==============================] - 0s 5ms/step - loss: 0.2291 - binary_accuracy: 1.0000\n",
            "Epoch 166/200\n",
            "1/1 [==============================] - 0s 36ms/step - loss: 0.2288 - binary_accuracy: 1.0000\n",
            "Epoch 167/200\n",
            "1/1 [==============================] - 0s 3ms/step - loss: 0.2286 - binary_accuracy: 1.0000\n",
            "Epoch 168/200\n",
            "1/1 [==============================] - 0s 4ms/step - loss: 0.2284 - binary_accuracy: 1.0000\n",
            "Epoch 169/200\n",
            "1/1 [==============================] - 0s 36ms/step - loss: 0.2281 - binary_accuracy: 1.0000\n",
            "Epoch 170/200\n",
            "1/1 [==============================] - 0s 7ms/step - loss: 0.2279 - binary_accuracy: 1.0000\n",
            "Epoch 171/200\n",
            "1/1 [==============================] - 0s 6ms/step - loss: 0.2276 - binary_accuracy: 1.0000\n",
            "Epoch 172/200\n",
            "1/1 [==============================] - 0s 6ms/step - loss: 0.2274 - binary_accuracy: 1.0000\n",
            "Epoch 173/200\n",
            "1/1 [==============================] - 0s 5ms/step - loss: 0.2272 - binary_accuracy: 1.0000\n",
            "Epoch 174/200\n",
            "1/1 [==============================] - 0s 5ms/step - loss: 0.2269 - binary_accuracy: 1.0000\n",
            "Epoch 175/200\n",
            "1/1 [==============================] - 0s 7ms/step - loss: 0.2267 - binary_accuracy: 1.0000\n",
            "Epoch 176/200\n",
            "1/1 [==============================] - 0s 3ms/step - loss: 0.2264 - binary_accuracy: 1.0000\n",
            "Epoch 177/200\n",
            "1/1 [==============================] - 0s 5ms/step - loss: 0.2262 - binary_accuracy: 1.0000\n",
            "Epoch 178/200\n",
            "1/1 [==============================] - 0s 13ms/step - loss: 0.2260 - binary_accuracy: 1.0000\n",
            "Epoch 179/200\n",
            "1/1 [==============================] - 0s 5ms/step - loss: 0.2257 - binary_accuracy: 1.0000\n",
            "Epoch 180/200\n",
            "1/1 [==============================] - 0s 3ms/step - loss: 0.2255 - binary_accuracy: 1.0000\n",
            "Epoch 181/200\n",
            "1/1 [==============================] - 0s 4ms/step - loss: 0.2252 - binary_accuracy: 1.0000\n",
            "Epoch 182/200\n",
            "1/1 [==============================] - 0s 6ms/step - loss: 0.2250 - binary_accuracy: 1.0000\n",
            "Epoch 183/200\n",
            "1/1 [==============================] - 0s 3ms/step - loss: 0.2247 - binary_accuracy: 1.0000\n",
            "Epoch 184/200\n",
            "1/1 [==============================] - 0s 8ms/step - loss: 0.2245 - binary_accuracy: 1.0000\n",
            "Epoch 185/200\n",
            "1/1 [==============================] - 0s 4ms/step - loss: 0.2242 - binary_accuracy: 1.0000\n",
            "Epoch 186/200\n",
            "1/1 [==============================] - 0s 4ms/step - loss: 0.2240 - binary_accuracy: 1.0000\n",
            "Epoch 187/200\n",
            "1/1 [==============================] - 0s 15ms/step - loss: 0.2237 - binary_accuracy: 1.0000\n",
            "Epoch 188/200\n",
            "1/1 [==============================] - 0s 6ms/step - loss: 0.2235 - binary_accuracy: 1.0000\n",
            "Epoch 189/200\n",
            "1/1 [==============================] - 0s 12ms/step - loss: 0.2232 - binary_accuracy: 1.0000\n",
            "Epoch 190/200\n",
            "1/1 [==============================] - 0s 15ms/step - loss: 0.2230 - binary_accuracy: 1.0000\n",
            "Epoch 191/200\n",
            "1/1 [==============================] - 0s 13ms/step - loss: 0.2227 - binary_accuracy: 1.0000\n",
            "Epoch 192/200\n",
            "1/1 [==============================] - 0s 7ms/step - loss: 0.2225 - binary_accuracy: 1.0000\n",
            "Epoch 193/200\n",
            "1/1 [==============================] - 0s 6ms/step - loss: 0.2222 - binary_accuracy: 1.0000\n",
            "Epoch 194/200\n",
            "1/1 [==============================] - 0s 7ms/step - loss: 0.2219 - binary_accuracy: 1.0000\n",
            "Epoch 195/200\n",
            "1/1 [==============================] - 0s 9ms/step - loss: 0.2217 - binary_accuracy: 1.0000\n",
            "Epoch 196/200\n",
            "1/1 [==============================] - 0s 7ms/step - loss: 0.2214 - binary_accuracy: 1.0000\n",
            "Epoch 197/200\n",
            "1/1 [==============================] - 0s 3ms/step - loss: 0.2212 - binary_accuracy: 1.0000\n",
            "Epoch 198/200\n",
            "1/1 [==============================] - 0s 4ms/step - loss: 0.2209 - binary_accuracy: 1.0000\n",
            "Epoch 199/200\n",
            "1/1 [==============================] - 0s 9ms/step - loss: 0.2206 - binary_accuracy: 1.0000\n",
            "Epoch 200/200\n",
            "1/1 [==============================] - 0s 4ms/step - loss: 0.2204 - binary_accuracy: 1.0000\n"
          ],
          "name": "stdout"
        }
      ]
    },
    {
      "cell_type": "markdown",
      "metadata": {
        "id": "eVCcAp23sBbJ"
      },
      "source": [
        "\n",
        "Eğitimi tamamlanan yapay sinir ağını şimdi test edelim. Aslında test etmeye gerek yok ama ne olduğunu anlamak için giriş verisini son halini alan çok katmanlı yapay sinir ağına verelim ve çıkışa bakalım. Burda geçen fonksiyonun ismi predict yani tahmin etme ifadesi kullanılmış"
      ]
    },
    {
      "cell_type": "code",
      "metadata": {
        "colab": {
          "base_uri": "https://localhost:8080/"
        },
        "id": "phxjtuhdsD8F",
        "outputId": "43276854-7a1d-4be4-874a-2abae3bfa47c"
      },
      "source": [
        "model.predict(trainingData).round()"
      ],
      "execution_count": 14,
      "outputs": [
        {
          "output_type": "execute_result",
          "data": {
            "text/plain": [
              "array([[0.],\n",
              "       [1.],\n",
              "       [1.],\n",
              "       [0.]], dtype=float32)"
            ]
          },
          "metadata": {
            "tags": []
          },
          "execution_count": 14
        }
      ]
    },
    {
      "cell_type": "markdown",
      "metadata": {
        "id": "41QkQYFwsG8e"
      },
      "source": [
        "Optimizasyon problemlerinde kullanılan önemli bir terminoloji loss function. Bu fonksiyonu minimize etmeye çalışıyoruz."
      ]
    },
    {
      "cell_type": "code",
      "metadata": {
        "colab": {
          "base_uri": "https://localhost:8080/",
          "height": 312
        },
        "id": "MHt8scFQsHrI",
        "outputId": "43d4ec37-1bc4-4b29-970a-be6b40df8739"
      },
      "source": [
        "lossCurve = history.history[\"loss\"]\n",
        "plt.plot(lossCurve, label=\"Train\")\n",
        "# plt.legend(loc='upper right')\n",
        "plt.xlabel(\"epoch (iterations)\")\n",
        "plt.ylabel(\"loss\")\n",
        "plt.title(\"loss fcn vs. epoch number\")"
      ],
      "execution_count": 13,
      "outputs": [
        {
          "output_type": "execute_result",
          "data": {
            "text/plain": [
              "Text(0.5, 1.0, 'loss fcn vs. epoch number')"
            ]
          },
          "metadata": {
            "tags": []
          },
          "execution_count": 13
        },
        {
          "output_type": "display_data",
          "data": {
            "image/png": "[encoded data removed]",
            "text/plain": [
              "<Figure size 432x288 with 1 Axes>"
            ]
          },
          "metadata": {
            "tags": [],
            "needs_background": "light"
          }
        }
      ]
    },
    {
      "cell_type": "code",
      "metadata": {
        "colab": {
          "base_uri": "https://localhost:8080/",
          "height": 312
        },
        "id": "QrI3kC3RsJ6C",
        "outputId": "661792ce-31fb-43ea-ad53-cba1d5eca96d"
      },
      "source": [
        "accuracyCurve = history.history[\"binary_accuracy\"]\n",
        "plt.plot(accuracyCurve, label=\"Accuracy\")\n",
        "# plt.legend(loc='upper left')\n",
        "plt.xlabel(\"epoch\")\n",
        "plt.ylabel(\"accuracy\")\n",
        "plt.title(\"Accuracy vs. epoch number\")"
      ],
      "execution_count": 15,
      "outputs": [
        {
          "output_type": "execute_result",
          "data": {
            "text/plain": [
              "Text(0.5, 1.0, 'Accuracy vs. epoch number')"
            ]
          },
          "metadata": {
            "tags": []
          },
          "execution_count": 15
        },
        {
          "output_type": "display_data",
          "data": {
            "image/png": "[encoded data removed]",
            "text/plain": [
              "<Figure size 432x288 with 1 Axes>"
            ]
          },
          "metadata": {
            "tags": [],
            "needs_background": "light"
          }
        }
      ]
    }
  ]
}